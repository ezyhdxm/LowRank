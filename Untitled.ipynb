{
 "cells": [
  {
   "cell_type": "code",
   "execution_count": 71,
   "id": "201aef38-2de1-453c-b6dc-76e789d337e7",
   "metadata": {},
   "outputs": [
    {
     "name": "stdout",
     "output_type": "stream",
     "text": [
      "The autoreload extension is already loaded. To reload it, use:\n",
      "  %reload_ext autoreload\n"
     ]
    }
   ],
   "source": [
    "import numpy as np\n",
    "import lowRank as lR\n",
    "import generator as g\n",
    "import utils as u\n",
    "from math import sqrt, log\n",
    "import sympy as sp\n",
    "\n",
    "%load_ext autoreload\n",
    "%autoreload 2"
   ]
  },
  {
   "cell_type": "code",
   "execution_count": 32,
   "id": "5eb732b6-51a9-40a1-986d-b8c06a43a78d",
   "metadata": {},
   "outputs": [
    {
     "data": {
      "text/latex": [
       "$\\displaystyle \\left[\\begin{matrix}\\lambda_{1} u_{1}^{2} - \\lambda_{1} \\left(u_{1} \\cos{\\left(\\phi \\right)} + u_{2} \\sin{\\left(\\phi \\right)}\\right)^{2} + \\lambda_{2} u_{2}^{2} - \\lambda_{2} \\left(- u_{1} \\sin{\\left(\\phi \\right)} + u_{2} \\cos{\\left(\\phi \\right)}\\right)^{2} & \\lambda_{1} u_{1} v_{1} - \\lambda_{1} v_{1} \\left(u_{1} \\cos{\\left(\\phi \\right)} + u_{2} \\sin{\\left(\\phi \\right)}\\right) + \\lambda_{2} u_{2} v_{2} - \\lambda_{2} v_{2} \\left(- u_{1} \\sin{\\left(\\phi \\right)} + u_{2} \\cos{\\left(\\phi \\right)}\\right)\\\\\\lambda_{1} u_{1} v_{1} - \\lambda_{1} v_{1} \\left(u_{1} \\cos{\\left(\\phi \\right)} + u_{2} \\sin{\\left(\\phi \\right)}\\right) + \\lambda_{2} u_{2} v_{2} - \\lambda_{2} v_{2} \\left(- u_{1} \\sin{\\left(\\phi \\right)} + u_{2} \\cos{\\left(\\phi \\right)}\\right) & 0\\end{matrix}\\right]$"
      ],
      "text/plain": [
       "Matrix([\n",
       "[lambda1*u1**2 - lambda1*(u1*cos(phi) + u2*sin(phi))**2 + lambda2*u2**2 - lambda2*(-u1*sin(phi) + u2*cos(phi))**2, lambda1*u1*v1 - lambda1*v1*(u1*cos(phi) + u2*sin(phi)) + lambda2*u2*v2 - lambda2*v2*(-u1*sin(phi) + u2*cos(phi))],\n",
       "[lambda1*u1*v1 - lambda1*v1*(u1*cos(phi) + u2*sin(phi)) + lambda2*u2*v2 - lambda2*v2*(-u1*sin(phi) + u2*cos(phi)),                                                                                                                0]])"
      ]
     },
     "execution_count": 32,
     "metadata": {},
     "output_type": "execute_result"
    }
   ],
   "source": [
    "# Define symbolic variables\n",
    "u1, u2, v1, v2 = sp.symbols('u1 u2 v1 v2')\n",
    "lambda1, lambda2 = sp.symbols('lambda1 lambda2')\n",
    "phi, theta = sp.symbols('phi theta')\n",
    "\n",
    "# Create matrices\n",
    "U0 = sp.Matrix([[u1, u2], [v1, v2]])\n",
    "\n",
    "Lambda = sp.Matrix([[lambda1, 0], [0, lambda2]])\n",
    "Rphi = sp.Matrix([[sp.cos(phi), -sp.sin(phi)], [sp.sin(phi), sp.cos(phi)]])\n",
    "Rtheta = sp.Matrix([[sp.cos(theta), -sp.sin(theta)], [sp.sin(theta), sp.cos(theta)]])\n",
    "\n",
    "U1 = sp.Matrix([sp.Matrix([[u1, u2]])*Rphi, [v1, v2]])\n",
    "\n",
    "# Multiply matrices\n",
    "M0 = U0 * Lambda * U0.T\n",
    "\n",
    "M1 = U1 * Lambda * U1.T\n",
    "\n",
    "I = sp.Matrix([[1,0],[0,1]])\n",
    "\n",
    "M0 - M1"
   ]
  },
  {
   "cell_type": "code",
   "execution_count": 44,
   "id": "e9ff92b6-8e18-4680-8bea-56dd203fd937",
   "metadata": {},
   "outputs": [
    {
     "data": {
      "text/latex": [
       "$\\displaystyle \\lambda_{1}^{2} u_{1}^{2} \\cos^{2}{\\left(\\theta \\right)} - 2 \\lambda_{1}^{2} u_{1}^{2} \\cos{\\left(\\theta \\right)} + \\lambda_{1}^{2} u_{1}^{2} - 2 \\lambda_{1}^{2} u_{1} u_{2} \\sin{\\left(\\theta \\right)} + \\lambda_{1}^{2} u_{1} u_{2} \\sin{\\left(2 \\theta \\right)} + \\lambda_{1}^{2} u_{2}^{2} \\sin^{2}{\\left(\\theta \\right)} + \\lambda_{2}^{2} u_{1}^{2} \\sin^{2}{\\left(\\theta \\right)} + 2 \\lambda_{2}^{2} u_{1} u_{2} \\sin{\\left(\\theta \\right)} - \\lambda_{2}^{2} u_{1} u_{2} \\sin{\\left(2 \\theta \\right)} + \\lambda_{2}^{2} u_{2}^{2} \\cos^{2}{\\left(\\theta \\right)} - 2 \\lambda_{2}^{2} u_{2}^{2} \\cos{\\left(\\theta \\right)} + \\lambda_{2}^{2} u_{2}^{2}$"
      ],
      "text/plain": [
       "lambda1**2*u1**2*cos(theta)**2 - 2*lambda1**2*u1**2*cos(theta) + lambda1**2*u1**2 - 2*lambda1**2*u1*u2*sin(theta) + lambda1**2*u1*u2*sin(2*theta) + lambda1**2*u2**2*sin(theta)**2 + lambda2**2*u1**2*sin(theta)**2 + 2*lambda2**2*u1*u2*sin(theta) - lambda2**2*u1*u2*sin(2*theta) + lambda2**2*u2**2*cos(theta)**2 - 2*lambda2**2*u2**2*cos(theta) + lambda2**2*u2**2"
      ]
     },
     "execution_count": 44,
     "metadata": {},
     "output_type": "execute_result"
    }
   ],
   "source": [
    "u = sp.Matrix([[u1, u2]]).T\n",
    "sp.trigsimp(sp.expand((u.T * (I-Rtheta) * Lambda * Lambda * (I-Rtheta).T * u)[0]))"
   ]
  },
  {
   "cell_type": "code",
   "execution_count": 30,
   "id": "83dee74f-eb2b-463f-bfa0-2373c2f07a13",
   "metadata": {},
   "outputs": [
    {
     "data": {
      "text/latex": [
       "$\\displaystyle - \\lambda_{1} u_{1}^{2} \\cos^{2}{\\left(\\phi \\right)} + \\lambda_{1} u_{1}^{2} - \\lambda_{1} u_{1} u_{2} \\sin{\\left(2 \\phi \\right)} - \\lambda_{1} u_{2}^{2} \\sin^{2}{\\left(\\phi \\right)} - \\lambda_{2} u_{1}^{2} \\sin^{2}{\\left(\\phi \\right)} + \\lambda_{2} u_{1} u_{2} \\sin{\\left(2 \\phi \\right)} - \\lambda_{2} u_{2}^{2} \\cos^{2}{\\left(\\phi \\right)} + \\lambda_{2} u_{2}^{2}$"
      ],
      "text/plain": [
       "-lambda1*u1**2*cos(phi)**2 + lambda1*u1**2 - lambda1*u1*u2*sin(2*phi) - lambda1*u2**2*sin(phi)**2 - lambda2*u1**2*sin(phi)**2 + lambda2*u1*u2*sin(2*phi) - lambda2*u2**2*cos(phi)**2 + lambda2*u2**2"
      ]
     },
     "execution_count": 30,
     "metadata": {},
     "output_type": "execute_result"
    }
   ],
   "source": [
    "sp.trigsimp(sp.expand((M0 - M1)[0,0]))"
   ]
  },
  {
   "cell_type": "code",
   "execution_count": 79,
   "id": "9e6a638a-8a7c-409e-bff3-cf87e67140e5",
   "metadata": {},
   "outputs": [
    {
     "data": {
      "text/plain": [
       "0.0426365285148278"
      ]
     },
     "execution_count": 79,
     "metadata": {},
     "output_type": "execute_result"
    }
   ],
   "source": [
    "np.set_printoptions(precision=5, suppress=True)\n",
    "\n",
    "# Example usage\n",
    "n = 1000    # Size of the matrix\n",
    "r = 2    # Rank\n",
    "\n",
    "eigenvalues = np.array([3*sqrt(n)+2*log(n), 3*sqrt(n)])  # Given eigenvalues for the rank-r subspace\n",
    "Mstar, Ustar = g.generate_low_rank_coherent_signal(n, r, eigenvalues)\n",
    "M = Mstar.copy()\n",
    "\n",
    "# Extract diagonal entries\n",
    "diag = np.diagonal(Mstar)\n",
    "\n",
    "# Find the index of the maximum diagonal entry\n",
    "max_idx = np.argmax(diag)\n",
    "M[max_idx, max_idx] += 1\n",
    "M2, _, _ = lR.top_r_low_rank_symmetric(M,2)\n",
    "\n",
    "M2[max_idx, max_idx] - Mstar[max_idx, max_idx]"
   ]
  },
  {
   "cell_type": "code",
   "execution_count": 96,
   "id": "141178f1-799f-41c5-8875-566c33c0ef3a",
   "metadata": {},
   "outputs": [
    {
     "data": {
      "text/plain": [
       "array([0.03829, 0.03921, 0.03162])"
      ]
     },
     "execution_count": 96,
     "metadata": {},
     "output_type": "execute_result"
    }
   ],
   "source": [
    "np.set_printoptions(precision=5, suppress=True)\n",
    "\n",
    "# Example usage\n",
    "n = 1000    # Size of the matrix\n",
    "r = 2    # Rank\n",
    "\n",
    "eigenvalues = np.array([3*sqrt(n)+2*log(n), 3*sqrt(n)])  # Given eigenvalues for the rank-r subspace\n",
    "Mstar, Ustar = g.generate_low_rank_coherent_signal(n, r, eigenvalues)\n",
    "\n",
    "W = g.asymmetric_gaussian_noise_homo(n)\n",
    "M = Mstar + W\n",
    "Leigvecs_r, Reigvecs_r, eigvals_r = lR.top_r_low_rank_asymmetric(M, 2)\n",
    "LU1_r = np.real(Leigvecs_r)\n",
    "RU1_r = np.real(Reigvecs_r)\n",
    "ev_r = np.diag(np.real(eigvals_r))\n",
    "\n",
    "Ur, Sr, Vrh = lR.top_r_low_rank_asymmetric_svd(M, 2)\n",
    "Msvd = Ur @ np.diag(Sr) @ Vrh\n",
    "Msvd_c = Ur @ ev_r @ Vrh\n",
    "\n",
    "LU, S, Vh = np.linalg.svd(LU1_r)\n",
    "RU, S, Vh = np.linalg.svd(RU1_r)\n",
    "LU = LU[:,:r]\n",
    "RU = RU[:,:r]\n",
    "\n",
    "Mhat = LU @ ev_r @ LU.T\n",
    "np.array([u.max_abs(np.linalg.norm(Ustar, axis=-1) - np.linalg.norm(LU, axis=-1)), \n",
    "          u.max_row_norm(LU @ (LU.T @ Ustar) - Ustar),\n",
    "          1/sqrt(n)\n",
    "         ])"
   ]
  },
  {
   "cell_type": "code",
   "execution_count": 95,
   "id": "d4e32a45-4e98-4e41-9e28-4bf57db942b9",
   "metadata": {},
   "outputs": [
    {
     "data": {
      "text/plain": [
       "array([0.60273, 0.58713, 0.65522, 0.1568 ])"
      ]
     },
     "execution_count": 95,
     "metadata": {},
     "output_type": "execute_result"
    }
   ],
   "source": [
    "np.array([u.max_abs(Mhat-Mstar), u.max_abs(Msvd-Mstar), \n",
    "          u.max_abs(Msvd_c-Mstar), u.max_row_norm(Ustar)])"
   ]
  },
  {
   "cell_type": "code",
   "execution_count": 142,
   "id": "c973369c-4431-4820-9da5-c384c953e51e",
   "metadata": {},
   "outputs": [
    {
     "data": {
      "text/plain": [
       "(0.041449752423357765, 0.2543923126538412)"
      ]
     },
     "execution_count": 142,
     "metadata": {},
     "output_type": "execute_result"
    }
   ],
   "source": [
    "np.set_printoptions(precision=5, suppress=True)\n",
    "\n",
    "# Example usage\n",
    "n = 600    # Size of the matrix\n",
    "r = 1    # Rank\n",
    "\n",
    "eigenvalues = np.array([3*sqrt(n)])  # Given eigenvalues for the rank-r subspace\n",
    "Mstar, Ustar = g.generate_low_rank_coherent_signal(n, r, eigenvalues, coherence=0.8)\n",
    "\n",
    "W = g.asymmetric_gaussian_noise_homo(n)\n",
    "M = Mstar + W\n",
    "Leigvecs_r, Reigvecs_r, eigvals_r = lR.top_r_low_rank_asymmetric(M, 1)\n",
    "LU1_r = np.real(Leigvecs_r)\n",
    "RU1_r = np.real(Reigvecs_r)\n",
    "ev_r = np.diag(np.real(eigvals_r))\n",
    "\n",
    "Ur, Sr, Vrh = lR.top_r_low_rank_asymmetric_svd(M, 1)\n",
    "Msvd = Ur @ np.diag(Sr) @ Vrh\n",
    "Msvd_c = Ur @ ev_r @ Vrh\n",
    "\n",
    "LU, S, Vh = np.linalg.svd(LU1_r)\n",
    "RU, S, Vh = np.linalg.svd(RU1_r)\n",
    "LU = LU[:,:r]\n",
    "RU = RU[:,:r]\n",
    "\n",
    "L, _, Rh = np.linalg.svd((LU.T @ Ustar))\n",
    "Mhat = LU @ ev_r @ LU.T\n",
    "np.array([u.max_abs(np.linalg.norm(Ustar, axis=-1) - np.linalg.norm(LU, axis=-1)), \n",
    "          u.max_row_norm(LU @ (L@Rh) - Ustar)])\n",
    "\n",
    "Lsvd, _, Rhsvd = np.linalg.svd(LU.T @ Ustar)\n",
    "u.max_row_norm(LU @ (Lsvd @ Rhsvd) - Ustar), u.max_row_norm(Ustar)"
   ]
  },
  {
   "cell_type": "code",
   "execution_count": 139,
   "id": "cd3fea7d-9af4-41b4-97da-63f43ff22f63",
   "metadata": {},
   "outputs": [
    {
     "data": {
      "text/plain": [
       "(0.01801354850971542, 0.012909944487358056)"
      ]
     },
     "execution_count": 139,
     "metadata": {},
     "output_type": "execute_result"
    }
   ],
   "source": [
    "u.max_abs(Ur + Ustar), 1/sqrt(n)"
   ]
  },
  {
   "cell_type": "code",
   "execution_count": 144,
   "id": "eb805d53-0de1-4735-8acb-c35898f98f10",
   "metadata": {},
   "outputs": [
    {
     "data": {
      "text/plain": [
       "3.1622776601683795"
      ]
     },
     "execution_count": 144,
     "metadata": {},
     "output_type": "execute_result"
    }
   ],
   "source": [
    "100**(1/4)"
   ]
  },
  {
   "cell_type": "code",
   "execution_count": 140,
   "id": "ba506218-e967-41d3-b4e8-52c40d832765",
   "metadata": {},
   "outputs": [
    {
     "data": {
      "text/plain": [
       "(0.4692144796729094,\n",
       " 0.4524872643994332,\n",
       " 0.4623230025429711,\n",
       " 0.4692144796729093)"
      ]
     },
     "execution_count": 140,
     "metadata": {},
     "output_type": "execute_result"
    }
   ],
   "source": [
    "u.max_abs(LU1_r @ ev_r @ LU1_r.T - Mstar), u.max_abs(Msvd-Mstar), u.max_abs(Msvd_c-Mstar), u.max_abs(Mhat-Mstar)"
   ]
  },
  {
   "cell_type": "code",
   "execution_count": 145,
   "id": "3722c049-9331-47cb-88c3-a72f5330e9c6",
   "metadata": {},
   "outputs": [
    {
     "data": {
      "text/plain": [
       "array([3.03912, 4.21401, 3.80991, 0.25439])"
      ]
     },
     "execution_count": 145,
     "metadata": {},
     "output_type": "execute_result"
    }
   ],
   "source": [
    "np.array([u.max_abs(Mhat-Mstar)/u.max_abs(Ustar), u.max_abs(Msvd-Mstar)/u.max_abs(Ustar), \n",
    "          u.max_abs(Msvd_c-Mstar)/u.max_abs(Ustar), u.max_abs(Ustar)])"
   ]
  },
  {
   "cell_type": "code",
   "execution_count": 141,
   "id": "42448f48-5283-4dcf-9e75-ddbb55d2b148",
   "metadata": {},
   "outputs": [
    {
     "data": {
      "text/plain": [
       "array([4.84863, 4.67578, 4.77742, 0.09677])"
      ]
     },
     "execution_count": 141,
     "metadata": {},
     "output_type": "execute_result"
    }
   ],
   "source": [
    "np.array([u.max_abs(Mhat-Mstar)/u.max_abs(Ustar), u.max_abs(Msvd-Mstar)/u.max_abs(Ustar), \n",
    "          u.max_abs(Msvd_c-Mstar)/u.max_abs(Ustar), u.max_abs(Ustar)])"
   ]
  },
  {
   "cell_type": "code",
   "execution_count": 222,
   "id": "9b8f62d0-850b-4eb1-8ac8-09202ad38a89",
   "metadata": {},
   "outputs": [
    {
     "data": {
      "text/plain": [
       "0.026726357591395345"
      ]
     },
     "execution_count": 222,
     "metadata": {},
     "output_type": "execute_result"
    }
   ],
   "source": [
    "C = np.real(np.array([Ustar[:,0].dot(LU1_r[:,0]), eigvals_r[0]/eigvals_r[1]*Ustar[:,0].dot(LU1_r[:,1]),\n",
    "             eigvals_r[1]/eigvals_r[0]*Ustar[:,1].dot(LU1_r[:,0]), Ustar[:,1].dot(LU1_r[:,1])])).reshape(2,2)\n",
    "u.max_row_norm(Ustar - LU1_r @ np.linalg.inv(C))"
   ]
  },
  {
   "cell_type": "code",
   "execution_count": 193,
   "id": "39c8fe53-4e03-45ff-8f6c-ba8755003179",
   "metadata": {},
   "outputs": [
    {
     "data": {
      "text/plain": [
       "SVDResult(U=array([[-0.74777, -0.66396],\n",
       "       [-0.66396,  0.74777]]), S=array([1.01228, 0.93014]), Vh=array([[-0.73998, -0.67262],\n",
       "       [-0.67262,  0.73998]]))"
      ]
     },
     "execution_count": 193,
     "metadata": {},
     "output_type": "execute_result"
    }
   ],
   "source": [
    "np.linalg.svd(C)"
   ]
  },
  {
   "cell_type": "code",
   "execution_count": 199,
   "id": "e61831d3-e0d8-40e0-bc5e-3a245889e863",
   "metadata": {},
   "outputs": [
    {
     "data": {
      "text/plain": [
       "0.03136862515423034"
      ]
     },
     "execution_count": 199,
     "metadata": {},
     "output_type": "execute_result"
    }
   ],
   "source": []
  },
  {
   "cell_type": "code",
   "execution_count": 187,
   "id": "ac66743e-8d56-4195-98a0-c7599ad5afdb",
   "metadata": {},
   "outputs": [
    {
     "data": {
      "text/plain": [
       "array([[-0.99984,  0.01764],\n",
       "       [-0.01764, -0.99984]])"
      ]
     },
     "execution_count": 187,
     "metadata": {},
     "output_type": "execute_result"
    }
   ],
   "source": [
    "L,_,Rh = np.linalg.svd(Ustar.T @ LU1_r)\n",
    "L @ Rh"
   ]
  },
  {
   "cell_type": "code",
   "execution_count": 170,
   "id": "7bf82e31-168b-464b-841b-d231c84086f8",
   "metadata": {},
   "outputs": [],
   "source": [
    "Mhat = U @ np.real(np.diag(eigvals_r)) @ U.T"
   ]
  },
  {
   "cell_type": "code",
   "execution_count": 172,
   "id": "366619f8-809d-4b57-852f-a87caa8faf1c",
   "metadata": {},
   "outputs": [
    {
     "data": {
      "text/plain": [
       "0.5108730086165489"
      ]
     },
     "execution_count": 172,
     "metadata": {},
     "output_type": "execute_result"
    }
   ],
   "source": [
    "u.max_abs(Mhat - Mstar)"
   ]
  },
  {
   "cell_type": "code",
   "execution_count": 145,
   "id": "012ce0eb-b49d-4208-8f6c-b8606320adc1",
   "metadata": {},
   "outputs": [
    {
     "data": {
      "text/plain": [
       "0.03162277660168379"
      ]
     },
     "execution_count": 145,
     "metadata": {},
     "output_type": "execute_result"
    }
   ],
   "source": [
    "1/sqrt(n)"
   ]
  },
  {
   "cell_type": "code",
   "execution_count": 52,
   "id": "bce48017-20db-4ee7-af1a-af720d969bc7",
   "metadata": {},
   "outputs": [
    {
     "data": {
      "text/plain": [
       "array([-1.053,  1.074])"
      ]
     },
     "execution_count": 52,
     "metadata": {},
     "output_type": "execute_result"
    }
   ],
   "source": [
    "1/np.diag(LU_r.T @ RU_r)"
   ]
  },
  {
   "cell_type": "code",
   "execution_count": 86,
   "id": "f22677a6-3fdc-400f-9eaa-0c5a87795d9f",
   "metadata": {},
   "outputs": [],
   "source": [
    "Uhat = np.sign(Ustar) * np.sqrt(np.abs(LU_r*RU_r) * np.abs(1/np.diag(LU_r.T @ RU_r)))\n",
    "Mhat = Uhat @ np.diag(eigenvalues) @ Uhat.T"
   ]
  },
  {
   "cell_type": "code",
   "execution_count": 92,
   "id": "ce87f331-3ada-4484-ac66-f74db2fbb3e7",
   "metadata": {},
   "outputs": [
    {
     "data": {
      "text/plain": [
       "array([[ 0.31 , -0.08 ,  0.265, ...,  0.046,  0.   ,  0.013],\n",
       "       [-0.08 ,  0.253, -0.681, ...,  0.006,  0.   ,  0.061],\n",
       "       [ 0.265, -0.681,  1.846, ..., -0.008,  0.   , -0.159],\n",
       "       ...,\n",
       "       [ 0.046,  0.006, -0.008, ...,  0.008,  0.   ,  0.007],\n",
       "       [ 0.   ,  0.   ,  0.   , ...,  0.   ,  0.   ,  0.   ],\n",
       "       [ 0.013,  0.061, -0.159, ...,  0.007,  0.   ,  0.018]])"
      ]
     },
     "execution_count": 92,
     "metadata": {},
     "output_type": "execute_result"
    }
   ],
   "source": [
    "Uhat @ np.diag(np.sqrt(np.real(eigvals_r))) @ np.diag(np.sqrt(np.real(eigvals_r))) @ Uhat.T"
   ]
  },
  {
   "cell_type": "code",
   "execution_count": 91,
   "id": "dc8acc9c-53e4-4a6d-85f3-830566972eef",
   "metadata": {},
   "outputs": [
    {
     "data": {
      "text/plain": [
       "array([[ 0.232, -0.105,  0.269, ...,  0.014,  0.   , -0.031],\n",
       "       [-0.105,  0.298, -0.763, ...,  0.   ,  0.   ,  0.087],\n",
       "       [ 0.269, -0.763,  1.953, ..., -0.001,  0.   , -0.223],\n",
       "       ...,\n",
       "       [ 0.014,  0.   , -0.001, ...,  0.001,  0.   ,  0.   ],\n",
       "       [ 0.   ,  0.   ,  0.   , ...,  0.   ,  0.   ,  0.   ],\n",
       "       [-0.031,  0.087, -0.223, ...,  0.   ,  0.   ,  0.026]])"
      ]
     },
     "execution_count": 91,
     "metadata": {},
     "output_type": "execute_result"
    }
   ],
   "source": [
    "Mstar"
   ]
  },
  {
   "cell_type": "code",
   "execution_count": 82,
   "id": "ec906a0d-36c9-48da-a60e-cf59441c5269",
   "metadata": {},
   "outputs": [
    {
     "data": {
      "text/plain": [
       "0.27298409609691704"
      ]
     },
     "execution_count": 82,
     "metadata": {},
     "output_type": "execute_result"
    }
   ],
   "source": [
    "u.max_abs(U_r - Ustar)"
   ]
  },
  {
   "cell_type": "code",
   "execution_count": 87,
   "id": "75c3daf1-e201-4675-8e73-c3d1ddf17692",
   "metadata": {},
   "outputs": [
    {
     "data": {
      "text/plain": [
       "0.42040021201823863"
      ]
     },
     "execution_count": 87,
     "metadata": {},
     "output_type": "execute_result"
    }
   ],
   "source": [
    "u.max_abs(Mstar-Mhat)"
   ]
  },
  {
   "cell_type": "code",
   "execution_count": 88,
   "id": "12d4e39b-c172-4b7b-b87a-2f4af2c54c1c",
   "metadata": {},
   "outputs": [
    {
     "data": {
      "text/plain": [
       "0.5004528747669326"
      ]
     },
     "execution_count": 88,
     "metadata": {},
     "output_type": "execute_result"
    }
   ],
   "source": [
    "np.max(np.abs(Mstar - Msvd))"
   ]
  },
  {
   "cell_type": "code",
   "execution_count": null,
   "id": "3eb6eded-f301-4a98-a5a8-4fec63e7e020",
   "metadata": {},
   "outputs": [],
   "source": [
    "np.linalg.norm(np.sum(Uhat @ H - Ustar, axis=0)) / sqrt(n)"
   ]
  },
  {
   "cell_type": "code",
   "execution_count": 227,
   "id": "0b538840-37d0-482d-9dd4-37c4e331d09e",
   "metadata": {},
   "outputs": [
    {
     "data": {
      "application/vnd.jupyter.widget-view+json": {
       "model_id": "e6f48a109ae84aa98235166c3347461a",
       "version_major": 2,
       "version_minor": 0
      },
      "text/plain": [
       "  0%|          | 0/10 [00:00<?, ?it/s]"
      ]
     },
     "metadata": {},
     "output_type": "display_data"
    }
   ],
   "source": [
    "from tqdm.notebook import trange\n",
    "\n",
    "# Example usage\n",
    "n = 1600    # Size of the matrix\n",
    "r = 2    # Rank\n",
    "eigenvalues = [6*np.sqrt(n), 3*np.sqrt(n)]  # Given eigenvalues for the rank-k subspace\n",
    "sparsity = 0.5  # 95% of the eigenvector entries will be zero\n",
    "\n",
    "Ustar1 = np.ones((n,1)) / sqrt(n) # generate_low_rank_sparse_eigen(n, r, eigenvalues, sparsity)\n",
    "Ustar2 = np.zeros((n,1)) \n",
    "m = int(sqrt(n))\n",
    "Ustar2[:m] = np.ones((m,1)) / sqrt(2*m)\n",
    "Ustar2[m:(2*m)] = np.ones((m,1)) / sqrt(2*m)\n",
    "Ustar = np.concatenate((Ustar1, Ustar2), axis=1)\n",
    "Mstar = Ustar @ np.diag(eigenvalues) @ Ustar.T\n",
    "\n",
    "B = 10\n",
    "\n",
    "error0 = np.zeros(B)\n",
    "error1 = np.zeros(B)\n",
    "error2 = np.zeros(B)\n",
    "error3 = np.zeros(B)\n",
    "\n",
    "for b in trange(B):\n",
    "    W = generate_symmetric_gaussian_noise_fixed_variance(n)\n",
    "    \n",
    "    M = Mstar + W # np.random.poisson(lam=Mstar) # \n",
    "    Mhat, Uhat = top_r_low_rank_symmetric(M, r)\n",
    "    Delta = Mhat - Mstar\n",
    "    error0[b] = np.max(np.abs(np.sum(Delta, axis=1))) / sqrt(n*log(n))\n",
    "    error1[b] = np.max(np.abs(np.sum(M - Mstar, axis=1))) / sqrt(n*log(n))\n",
    "    error2[b] = np.max(np.sum(np.abs(Delta), axis=1)) / (sqrt(n) * np.sum(np.linalg.norm(Ustar, axis=1))*np.max(np.linalg.norm(Ustar, axis=1)))\n",
    "    H = Uhat.T @ Ustar\n",
    "    error3[b] = np.linalg.norm(np.sum(Uhat @ H - Ustar, axis=0)) / sqrt(n)"
   ]
  },
  {
   "cell_type": "code",
   "execution_count": 228,
   "id": "6de1070c-8f96-4a97-8c55-c3d80ebac64f",
   "metadata": {},
   "outputs": [
    {
     "name": "stdout",
     "output_type": "stream",
     "text": [
      "[1.362 1.34  0.895 0.032]\n"
     ]
    }
   ],
   "source": [
    "np.set_printoptions(precision=3)\n",
    "print(np.array([np.mean(error0), np.mean(error1), np.mean(error2), np.mean(error3)]))"
   ]
  },
  {
   "cell_type": "code",
   "execution_count": 182,
   "id": "0e763485-a88d-45f1-9f8f-3661bbb00025",
   "metadata": {},
   "outputs": [
    {
     "data": {
      "text/plain": [
       "9.722641933810033"
      ]
     },
     "execution_count": 182,
     "metadata": {},
     "output_type": "execute_result"
    }
   ],
   "source": [
    "H = Uhat.T @ Ustar\n",
    "np.sqrt(n) * np.linalg.norm(np.sum(Uhat @ H - Ustar, axis=0)) * n**(-0.25)"
   ]
  },
  {
   "cell_type": "code",
   "execution_count": 224,
   "id": "b716e5e0-2d71-41e7-a5d5-80ee26f34ec0",
   "metadata": {},
   "outputs": [
    {
     "data": {
      "text/plain": [
       "3.2286134973200316"
      ]
     },
     "execution_count": 224,
     "metadata": {},
     "output_type": "execute_result"
    }
   ],
   "source": [
    "np.abs(np.sum(Uhat[:,0] * (Uhat[:,0] @ Ustar[:,0]) - Ustar[:,0]))"
   ]
  },
  {
   "cell_type": "code",
   "execution_count": 233,
   "id": "46f06eee-8651-41a1-b371-5b6470168761",
   "metadata": {},
   "outputs": [
    {
     "data": {
      "text/plain": [
       "(163.36231602040704, 147.39181908963698)"
      ]
     },
     "execution_count": 233,
     "metadata": {},
     "output_type": "execute_result"
    }
   ],
   "source": [
    "Err = W @ (Ustar @ Ustar.T)\n",
    "np.max(np.abs(np.sum(Err + Err.T, axis=1))), np.max(np.abs(np.sum(M - Mstar, axis=1)))"
   ]
  },
  {
   "cell_type": "code",
   "execution_count": 201,
   "id": "f7ffb7e1-1761-4496-923e-18178b9db343",
   "metadata": {},
   "outputs": [
    {
     "data": {
      "text/plain": [
       "(362.7918582591838, 502.9733718731742, 182.14334618757863)"
      ]
     },
     "execution_count": 201,
     "metadata": {},
     "output_type": "execute_result"
    }
   ],
   "source": [
    "np.max(np.sum(np.abs(Delta), axis=1)), (n**(3/4)), sqrt(n*log(n))"
   ]
  },
  {
   "cell_type": "code",
   "execution_count": 203,
   "id": "18870629-911e-422b-b9c5-2e6ddc7b492e",
   "metadata": {},
   "outputs": [
    {
     "data": {
      "text/plain": [
       "1798.6079278243378"
      ]
     },
     "execution_count": 203,
     "metadata": {},
     "output_type": "execute_result"
    }
   ],
   "source": [
    "np.max(np.abs(Delta)) * n"
   ]
  },
  {
   "cell_type": "code",
   "execution_count": 211,
   "id": "7daf534b-6f8a-447e-a50c-a5023ec29eda",
   "metadata": {},
   "outputs": [
    {
     "data": {
      "text/plain": [
       "415.7546864154004"
      ]
     },
     "execution_count": 211,
     "metadata": {},
     "output_type": "execute_result"
    }
   ],
   "source": [
    "sqrt(n)*np.sum(np.linalg.norm(Ustar, axis=1))*np.max(np.linalg.norm(Ustar, axis=1))"
   ]
  },
  {
   "cell_type": "code",
   "execution_count": null,
   "id": "ee67634b-1e19-4e21-91e9-4ccd345a0223",
   "metadata": {},
   "outputs": [],
   "source": []
  }
 ],
 "metadata": {
  "kernelspec": {
   "display_name": "Python 3 (ipykernel)",
   "language": "python",
   "name": "python3"
  },
  "language_info": {
   "codemirror_mode": {
    "name": "ipython",
    "version": 3
   },
   "file_extension": ".py",
   "mimetype": "text/x-python",
   "name": "python",
   "nbconvert_exporter": "python",
   "pygments_lexer": "ipython3",
   "version": "3.12.3"
  }
 },
 "nbformat": 4,
 "nbformat_minor": 5
}
